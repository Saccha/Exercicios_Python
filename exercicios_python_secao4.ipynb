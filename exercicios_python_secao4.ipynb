{
  "nbformat": 4,
  "nbformat_minor": 0,
  "metadata": {
    "colab": {
      "name": "exercicios_python_secao4.ipynb",
      "provenance": [],
      "authorship_tag": "ABX9TyPkDQECEo8y4Fst/pggalEJ",
      "include_colab_link": true
    },
    "kernelspec": {
      "name": "python3",
      "display_name": "Python 3"
    }
  },
  "cells": [
    {
      "cell_type": "markdown",
      "metadata": {
        "id": "view-in-github",
        "colab_type": "text"
      },
      "source": [
        "<a href=\"https://colab.research.google.com/github/Saccha/Exercicios_Python/blob/main/exercicios_python_secao4.ipynb\" target=\"_parent\"><img src=\"https://colab.research.google.com/assets/colab-badge.svg\" alt=\"Open In Colab\"/></a>"
      ]
    },
    {
      "cell_type": "code",
      "metadata": {
        "colab": {
          "base_uri": "https://localhost:8080/"
        },
        "id": "9pmRh0X2EJeY",
        "outputId": "2f7319b6-32e8-458c-ee0b-8c8ed7649bf0"
      },
      "source": [
        "\"\"\" 1. Faça um programa que leia um número inteiro e o imprima. \"\"\"\n",
        "\n",
        "numero = int(input('Digite um número inteiro: '))\n",
        "print(numero)"
      ],
      "execution_count": null,
      "outputs": [
        {
          "output_type": "stream",
          "text": [
            "Digite um número inteiro: 6\n",
            "6\n"
          ],
          "name": "stdout"
        }
      ]
    },
    {
      "cell_type": "code",
      "metadata": {
        "colab": {
          "base_uri": "https://localhost:8080/"
        },
        "id": "OctE_AmjGbeK",
        "outputId": "c4a334fb-d43c-4eb9-c3ad-3f2cdf8286a7"
      },
      "source": [
        "\" 2. Faça um programa que leia um número real e o imprima.\"\n",
        "NumeroReal = input(\"Digite um número real: \")\n",
        "print(NumeroReal)"
      ],
      "execution_count": null,
      "outputs": [
        {
          "output_type": "stream",
          "text": [
            "Digite um número real: 6\n",
            "6\n"
          ],
          "name": "stdout"
        }
      ]
    },
    {
      "cell_type": "code",
      "metadata": {
        "colab": {
          "base_uri": "https://localhost:8080/"
        },
        "id": "tOi8eugsGqsS",
        "outputId": "599d466c-af3e-45b4-cea6-0f18d34b7c48"
      },
      "source": [
        "\" 3. Peça ao usuário para digitar três valores inteiros e imprima a soma deles.\"\n",
        "\n",
        "numero1 = int(input('Digite um numero: '))\n",
        "numero2 = int(input('Digite um numero: '))\n",
        "numero3 = int(input('Digite um numero: '))\n",
        "soma = (numero1 + numero2 + numero3)\n",
        "print(soma)"
      ],
      "execution_count": null,
      "outputs": [
        {
          "output_type": "stream",
          "text": [
            "Digite um numero: 7\n",
            "Digite um numero: 6\n",
            "Digite um numero: 5\n",
            "18\n"
          ],
          "name": "stdout"
        }
      ]
    },
    {
      "cell_type": "code",
      "metadata": {
        "colab": {
          "base_uri": "https://localhost:8080/"
        },
        "id": "Hab8EA3sHBam",
        "outputId": "74090b0f-e4e7-440a-e6bf-e4d17ad07ee6"
      },
      "source": [
        "\" 4. Leia um número real e imprima o quadrado desse número\"\n",
        "num = int(input(\"Digite um valor: \"))\n",
        "print(num ** 2)"
      ],
      "execution_count": null,
      "outputs": [
        {
          "output_type": "stream",
          "text": [
            "Digite um valor: 8\n",
            "64\n"
          ],
          "name": "stdout"
        }
      ]
    },
    {
      "cell_type": "code",
      "metadata": {
        "colab": {
          "base_uri": "https://localhost:8080/"
        },
        "id": "bJXrDW0ILEkV",
        "outputId": "81de9c56-038b-4a51-c3f4-78571fb4b907"
      },
      "source": [
        "\" 5. Leia um número real e imprima a quinta parte deste numero \"\n",
        "\n",
        "num = int(input('Digite um valor: '))\n",
        "print(int(num / 5))"
      ],
      "execution_count": null,
      "outputs": [
        {
          "output_type": "stream",
          "text": [
            "Digite um valor: 6\n",
            "1\n"
          ],
          "name": "stdout"
        }
      ]
    },
    {
      "cell_type": "code",
      "metadata": {
        "colab": {
          "base_uri": "https://localhost:8080/"
        },
        "id": "C3qXzfh5OUSW",
        "outputId": "6c4ba9b6-38f0-41a4-b0e7-e3363c1d6eba"
      },
      "source": [
        "\"\"\" 6. Leia uma temperatura em graus Celsius e apresente-a convertida em gruas Fahrenheit. A fórmula de conversão é:  \n",
        "F = C*(9.0/5.0)+32.0, sendo F a temperatura em Fahrenheit e C a temperatura em gruas Celsius\"\"\"\n",
        "# 6\n",
        "c = float(input(\"Digite o valor: \"))\n",
        "f = c * (9.0 / 5.0) + 32.0\n",
        "print(\"%.1f\" % f)"
      ],
      "execution_count": null,
      "outputs": [
        {
          "output_type": "stream",
          "text": [
            "Digite o valor: 6\n",
            "42.8\n"
          ],
          "name": "stdout"
        }
      ]
    },
    {
      "cell_type": "code",
      "metadata": {
        "colab": {
          "base_uri": "https://localhost:8080/"
        },
        "id": "woMjDUDNSxEK",
        "outputId": "55a5fc20-6baf-4e11-d631-49a41a24ce48"
      },
      "source": [
        "\"\"\" 7. Leia uma temperatura em graus Fahrenheit e apresente-a convertida em gruas Celsius. A fórmula de conversão é:  \n",
        "C = 5.0*(f-32.0)/9.0, sendo C a temperatura em Celsius e F a temperatura em Fahrenheit\"\"\"\n",
        "# 7\n",
        "f = float(input(\"Digite o valor de Fahrenheit: \"))\n",
        "c = 5.0 * (f - 32.0) / 9.0\n",
        "print(\"%.1f\" % c)"
      ],
      "execution_count": null,
      "outputs": [
        {
          "output_type": "stream",
          "text": [
            "Digite o valor de Fahrenheit: 67.0\n",
            "19.4\n"
          ],
          "name": "stdout"
        }
      ]
    },
    {
      "cell_type": "code",
      "metadata": {
        "colab": {
          "base_uri": "https://localhost:8080/"
        },
        "id": "RLZacVrjTjDB",
        "outputId": "2c78928d-bab6-4e74-cde9-1e25aa933e8c"
      },
      "source": [
        "\"\"\" 8. Leia uma temperatura em graus Kelvin e apresente-a convertida em gruas Celsius. A fórmula de conversão é:  \n",
        "C = k - 273.15, sendo C a temperatura em Celsius e K a temperatura em Kelvin\"\"\"\n",
        "k = float(input(\"Digite o valor: \"))\n",
        "c = k - 273.15\n",
        "print(c)"
      ],
      "execution_count": null,
      "outputs": [
        {
          "output_type": "stream",
          "text": [
            "Digite o valor: 78.9\n",
            "-194.24999999999997\n"
          ],
          "name": "stdout"
        }
      ]
    },
    {
      "cell_type": "code",
      "metadata": {
        "id": "fXExZlAJZugq"
      },
      "source": [
        "\"\"\" 9. Leia uma temperatura em graus Celsius e apresente-a convertida em gruas Kelvin. A fórmula de conversão é:  \n",
        "K = C + 273.15, sendo C a temperatura em Celsius e K a temperatura em Kelvin\"\"\"\n",
        "\n",
        "c = float(input(\"Digite o valor: \"))\n",
        "k = c + 273.15\n",
        "print(k)"
      ],
      "execution_count": null,
      "outputs": []
    },
    {
      "cell_type": "code",
      "metadata": {
        "id": "nuzkrWM6dfvp"
      },
      "source": [
        "\"\"\" 10. Leia uma velocidade em km/h (quilômetros por hora) e apresente-a convertida em m/s\n",
        "(metros por segundo). A fórmula de conversão é: M= K /3.6, sendo K a velocidade em\n",
        "km/h e M em m/s.\"\"\"\n",
        "\n",
        "k = float(input(\"Digite o valor de k: \"))\n",
        "m = k / 3.6\n",
        "print(m)"
      ],
      "execution_count": null,
      "outputs": []
    },
    {
      "cell_type": "code",
      "metadata": {
        "colab": {
          "base_uri": "https://localhost:8080/"
        },
        "id": "tcWHOr5Pd9Iv",
        "outputId": "a6f37105-02bb-4fd9-cb91-2c5645d02352"
      },
      "source": [
        "\"\"\" 11. Leia uma velocidade em m/s (metros por segundo) e apresente-a convertida em km/h\n",
        "(quilómetros por hora). A fórmula de conversão é: K = M*3,6, sendo K a velocidade\n",
        "em km/h e M em rn/s.\"\"\"\n",
        "\n",
        "m = float(input('Digite o valor de m: '))\n",
        "k = m * 3.6\n",
        "print(k)"
      ],
      "execution_count": null,
      "outputs": [
        {
          "output_type": "stream",
          "text": [
            "Digite o valor de m: 6.9\n",
            "24.840000000000003\n"
          ],
          "name": "stdout"
        }
      ]
    },
    {
      "cell_type": "code",
      "metadata": {
        "colab": {
          "base_uri": "https://localhost:8080/"
        },
        "id": "amW-yfqYe836",
        "outputId": "18e57f37-d661-475b-b247-7aeeb20297f2"
      },
      "source": [
        "\"\"\" 12. Leia uma distância em milhas e apresente-a convertida em quilómetros. A fórmula de\n",
        "conversão é: K = 1,61*M, sendo K a distância em quilómetros e M em milhas.\"\"\"\n",
        "m = float(input(\"Digite o valor de m: \"))\n",
        "k = 1.61 * m\n",
        "print(k)"
      ],
      "execution_count": null,
      "outputs": [
        {
          "output_type": "stream",
          "text": [
            "Digite o valor de m: 9\n",
            "14.49\n"
          ],
          "name": "stdout"
        }
      ]
    },
    {
      "cell_type": "code",
      "metadata": {
        "id": "UkmyYV5KfXVh"
      },
      "source": [
        "\"\"\" 13. Leia uma distância em quilómetros e apresente-a convertida em milhas. A fórmula de\n",
        "conversão é: M = k/1.61, sendo K a distância em quilômetros e M em milhas.\"\"\"\n",
        "k = float(input(\"Digite o valor de K: \"))\n",
        "m = k / 1.61\n",
        "print(m)"
      ],
      "execution_count": null,
      "outputs": []
    },
    {
      "cell_type": "code",
      "metadata": {
        "colab": {
          "base_uri": "https://localhost:8080/"
        },
        "id": "fLBVJimofg7I",
        "outputId": "c4d969f3-0a83-4bb7-cf20-b6e8c4c71ef3"
      },
      "source": [
        "\"\"\" 14. Leia um ângulo em graus e apresente-o convertido em radianos. A fórmula de conversão\n",
        "é: R = G * þ/180, sendo G o ângulo em graus e R em radianos e 3.14. # {þ = pi} \"\"\"\n",
        "\n",
        "import math\n",
        "p = math.pi\n",
        "g = float(input(\"Ângulo da Conversão: \"))\n",
        "r = float(g * p / 180)\n",
        "print(\"%.4f\" % r)"
      ],
      "execution_count": null,
      "outputs": [
        {
          "output_type": "stream",
          "text": [
            "Ângulo da Conversão: 9\n",
            "0.1571\n"
          ],
          "name": "stdout"
        }
      ]
    },
    {
      "cell_type": "code",
      "metadata": {
        "id": "8_Otv4DTiDeG"
      },
      "source": [
        "\"\"\" 15. Leia um ângulo em radianos e apresente-o convertido em graus. A fórmula de conversão\n",
        "é: G = R*180/þ, sendo G o ângulo em graus, R em radianos e þ em pi.\"\"\"\n",
        "import math\n",
        "\n",
        "r = int(input(\"Digite o valor em radianos: \"))\n",
        "g = r * 180 / math.pi\n",
        "print(\"%.4f\" % g)"
      ],
      "execution_count": null,
      "outputs": []
    },
    {
      "cell_type": "code",
      "metadata": {
        "colab": {
          "base_uri": "https://localhost:8080/"
        },
        "id": "i5FSMPcolJyo",
        "outputId": "2a340f98-c30f-43a8-c477-93caeaeb851f"
      },
      "source": [
        "\"\"\" 16. Leia um valor de comprimento em polegadas e apresente-o convertido em centímetros.\n",
        "A fórmula de conversão é: C = P * 2,54, sendo C o comprimento em centímetros e P o\n",
        "comprimento em polegadas.\"\"\"\n",
        "\n",
        "p = float(input(\"Digite o valor de G: \"))\n",
        "c = p * 2.54\n",
        "print(\"%.4f\" % c)"
      ],
      "execution_count": null,
      "outputs": [
        {
          "output_type": "stream",
          "text": [
            "Digite o valor de G: 8\n",
            "20.3200\n"
          ],
          "name": "stdout"
        }
      ]
    },
    {
      "cell_type": "code",
      "metadata": {
        "colab": {
          "base_uri": "https://localhost:8080/"
        },
        "id": "esrqAmQglXOI",
        "outputId": "939961f3-3a07-47da-f737-ecd796860030"
      },
      "source": [
        "\"\"\" 17. Leia um valor de comprimento em centímetros e apresente-o convertido em polegadas.\n",
        "A fórmula de conversão é: P = C/2,54,sendo C o comprimento em centímetros e P o comprimento \n",
        "em polegadas.\"\"\"\n",
        "\n",
        "c = float(input(\"Digite um valor do comprimento em centimetros: \"))\n",
        "p = c/2.54\n",
        "print(\"%.4f\" % p)"
      ],
      "execution_count": null,
      "outputs": [
        {
          "output_type": "stream",
          "text": [
            "Digite um valor do comprimento em centimetros: 9\n",
            "3.5433\n"
          ],
          "name": "stdout"
        }
      ]
    },
    {
      "cell_type": "code",
      "metadata": {
        "colab": {
          "base_uri": "https://localhost:8080/"
        },
        "id": "iY67eK5pltF-",
        "outputId": "50572c33-73ca-4d1f-b762-2450b2cae80a"
      },
      "source": [
        "\"\"\" 18. Leia um valor de volume em metros cúbicos M³ e apresente-o convertido em litros. A\n",
        "fórmula de conversão é: L = 1000*M, sendo L o volume em litros e M o volume em\n",
        "metros cúbicos.\"\"\"\n",
        "m = float(input(\"Digite o valor: \"))\n",
        "l = 1000 * m\n",
        "print(l)"
      ],
      "execution_count": null,
      "outputs": [
        {
          "output_type": "stream",
          "text": [
            "Digite o valor: 9\n",
            "9000.0\n"
          ],
          "name": "stdout"
        }
      ]
    },
    {
      "cell_type": "code",
      "metadata": {
        "colab": {
          "base_uri": "https://localhost:8080/"
        },
        "id": "3RzIkfUEnI5r",
        "outputId": "0a0c1631-f3bf-40d7-a375-93f2785bf386"
      },
      "source": [
        "\"\"\" 19. Leia um valor de volume em litros e apresente-o convertido em metros cúbicos m³ \n",
        "fórmula de conversão é: M = L/1000 sendo L o volume em litros e M c volume em metros cúbicos.\"\"\"\n",
        "\n",
        "l = float(input(\"Digite o valor: \"))\n",
        "m = l/1000\n",
        "print(m)"
      ],
      "execution_count": null,
      "outputs": [
        {
          "output_type": "stream",
          "text": [
            "Digite o valor: 5\n",
            "0.005\n"
          ],
          "name": "stdout"
        }
      ]
    },
    {
      "cell_type": "code",
      "metadata": {
        "colab": {
          "base_uri": "https://localhost:8080/"
        },
        "id": "Kt-TEztMNvsh",
        "outputId": "bf4881d9-65c9-45d0-c0c7-ccb2fabeefe8"
      },
      "source": [
        "#20. Leia um valor de massa em quilogramas e apresente-o convertido em libras. A fórmula\n",
        "# de conversão é: L = K/0,45 ,sendo K a massa em qulogramas e L a massa em livras.\n",
        "\n",
        "k = float(input(\"Digite o valor de quilogramas: \"))\n",
        "l = k/0.45\n",
        "print(l)"
      ],
      "execution_count": null,
      "outputs": [
        {
          "output_type": "stream",
          "text": [
            "Digite o valor de quilogramas: 7\n",
            "15.555555555555555\n"
          ],
          "name": "stdout"
        }
      ]
    },
    {
      "cell_type": "code",
      "metadata": {
        "colab": {
          "base_uri": "https://localhost:8080/"
        },
        "id": "h_lwQVL1ZikU",
        "outputId": "eb04a9d4-b150-4a24-cef2-7cca9cc79244"
      },
      "source": [
        "#21. Leia um valor de massa em libras e apresente-o convertido em quilogramas. A fórmula\n",
        "# de conversão é; K = L * 0,45 , sendo K a massa em quilogramas e L a massa em libras.\n",
        "\n",
        "l = float(input(\"Digite o valor de massa em libras para converte em quilogramas: \"))\n",
        "k = l * 0.45\n",
        "print('{0} libras = {1} quilograma '.format(l,k))"
      ],
      "execution_count": null,
      "outputs": [
        {
          "output_type": "stream",
          "text": [
            "Digite o valor de massa em libras para converte em quilogramas: 9.0\n",
            "9.0 libras = 4.05 quilograma \n"
          ],
          "name": "stdout"
        }
      ]
    },
    {
      "cell_type": "code",
      "metadata": {
        "colab": {
          "base_uri": "https://localhost:8080/"
        },
        "id": "OrMKI5Nbb3p7",
        "outputId": "b7fe176e-a748-4e75-ee00-d91779f8e623"
      },
      "source": [
        "#22. Leia um valor de comprimento em jardas e apresente-o convertido em metros. A fórmula \n",
        "# de conversão é: M = 0,91 * J, sendo J o comprimento em jardas e M o comprimento em \n",
        "# metros. \n",
        "\n",
        "j = float(input(\"Digite o comprimento em jardas para converter em metros: \"))\n",
        "m = 0.91 * j\n",
        "print('{0} jardas = {1} metros'.format(j,m))"
      ],
      "execution_count": null,
      "outputs": [
        {
          "output_type": "stream",
          "text": [
            "Digite o comprimento em jardas para converter em metros: 10\n",
            "10.0 jardas = 9.1 metros\n"
          ],
          "name": "stdout"
        }
      ]
    },
    {
      "cell_type": "code",
      "metadata": {
        "colab": {
          "base_uri": "https://localhost:8080/"
        },
        "id": "FS496EVFczF8",
        "outputId": "38ebdbdb-b5bf-4ebe-d02b-602b0aa26a30"
      },
      "source": [
        "#23. Leia uma valor de comprimento em metros e apresente-o convertido em jardas. A fórmula \n",
        "# de conversão é: J = M/0,91 ,sendo J o comprimento em jardas e M o comprimento em metros\n",
        "\n",
        "m = float(input(\"Digite em metros para converter em jardas: \"))\n",
        "j = m/0.91\n",
        "print('{0} metros = {1:.2f} jardas '.format(m,j))"
      ],
      "execution_count": null,
      "outputs": [
        {
          "output_type": "stream",
          "text": [
            "Digite em metros para converter em jardas: 88.0\n",
            "88.0 metros = 96.70 jardas \n"
          ],
          "name": "stdout"
        }
      ]
    },
    {
      "cell_type": "code",
      "metadata": {
        "colab": {
          "base_uri": "https://localhost:8080/"
        },
        "id": "KhlsP06BelFs",
        "outputId": "9355f6c4-598d-4bc7-e9ae-c4ff10088861"
      },
      "source": [
        "#24. Leia um valor de área metros quadrados m² e apresente-o convertido em acres. A \n",
        "# fórmula de conversão é: A = M * 0,000247, sendo M a área em metros quadrados e A\n",
        "# a área em acres \n",
        "\n",
        "m = float(input('Digite o valor em metros quadrados m² para converte em acres: '))\n",
        "a = m* 0.000247\n",
        "print('{0} metros quadrados = {1} acres '.format(m,a))"
      ],
      "execution_count": null,
      "outputs": [
        {
          "output_type": "stream",
          "text": [
            "Digite o valor em metros quadrados m² para converte em acres: 120\n",
            "120.0 metros quadrados = 0.02964 acres \n"
          ],
          "name": "stdout"
        }
      ]
    },
    {
      "cell_type": "code",
      "metadata": {
        "id": "JTDHLPC9gJ63"
      },
      "source": [
        "#25.  Leia um valor de área em acres e apresente-o convertido em metros quadrados m². A\n",
        "# fórmula de conversão é: M = A * 4048,58, sendo M a área em metros quadrados e A a \n",
        "# área em acres\n",
        " a = float(input('Digite em acres para converter em metros quadrados: '))\n",
        " m = a * 4048.58\n",
        " print('{0} jardas = {1} metros quadrados'.format(a,m))"
      ],
      "execution_count": null,
      "outputs": []
    },
    {
      "cell_type": "code",
      "metadata": {
        "colab": {
          "base_uri": "https://localhost:8080/"
        },
        "id": "MzW5QeERh8tl",
        "outputId": "37edfe54-768a-4392-f956-35b0dce1d4e2"
      },
      "source": [
        "#26. Leia um valor de área em metros quadrados m² e apresente-o convertido em hectare.\n",
        "# A fórmula de conversão é: H = M * 0,0001, sendo M a área em metros quadrados e H\n",
        "# área em hectares. \n",
        "\n",
        "m = float(input(\"Digite a área em metros quadrados m² para converter em hectare: \"))\n",
        "h = m * 0.0001\n",
        "print('{0} metros quadrados = {1} hectare'.format(m,h))"
      ],
      "execution_count": null,
      "outputs": [
        {
          "output_type": "stream",
          "text": [
            "Digite a área em metros quadrados m² para converter em hectare: 90.0\n",
            "90.0 metros quadrados = 0.009000000000000001 hectare\n"
          ],
          "name": "stdout"
        }
      ]
    },
    {
      "cell_type": "code",
      "metadata": {
        "colab": {
          "base_uri": "https://localhost:8080/"
        },
        "id": "AS0UQL73kDQP",
        "outputId": "479de374-b726-40c8-f81a-6116b9735491"
      },
      "source": [
        "#27.  Leia um valor de área em hectares e apresente-o convertido em metros quadrados m².\n",
        "# A fórmula de conversão é: M = H * 10000, sendo M a área em metros quadrados e H \n",
        "# a área em hectares.\n",
        "\n",
        "h = float(input(\"Digite um hectare para converter em metros quadrados: \"))\n",
        "m = h * 10000\n",
        "print('{0} hectare = {1} metros quadrados'.format(h,m))"
      ],
      "execution_count": null,
      "outputs": [
        {
          "output_type": "stream",
          "text": [
            "Digite um hectare para converter em metros quadrados: 8.0\n",
            "8.0 hectare = 80000.0 metros quadrados\n"
          ],
          "name": "stdout"
        }
      ]
    },
    {
      "cell_type": "code",
      "metadata": {
        "colab": {
          "base_uri": "https://localhost:8080/"
        },
        "id": "O67K_7ZElp5M",
        "outputId": "bf51b954-a167-470e-e1ce-d4bfdb6ad281"
      },
      "source": [
        "#28.  Faça a leitura de três valores e apresente como resultado a soma dos quadrados dos \n",
        "# três valores lidos.\n",
        "\n",
        "n1 = int(input('Digite o 1º número: '))\n",
        "n2 = int(input('Digite o 2º número: '))\n",
        "n3 = int(input('Digite o 3º número: '))\n",
        "soma = (n1 ** 2)+(n2 ** 2)+(n3 ** 2)\n",
        "print('A soma dos quadrados dos três valores({0},{1},{2}) é {3}.'.format(n1,n2,n3,soma))"
      ],
      "execution_count": null,
      "outputs": [
        {
          "output_type": "stream",
          "text": [
            "Digite o 1º número: 8\n",
            "Digite o 2º número: 7\n",
            "Digite o 3º número: 9\n",
            "A soma dos quadrados dos três valores(8,7,9) é 194.\n"
          ],
          "name": "stdout"
        }
      ]
    },
    {
      "cell_type": "code",
      "metadata": {
        "colab": {
          "base_uri": "https://localhost:8080/"
        },
        "id": "2OI7n2cfl6lT",
        "outputId": "5d419056-e648-4ebc-cc5a-404b21ff334f"
      },
      "source": [
        "#29.  Leia quatro notas, calcule a média aritmética e imprima o resultado.\n",
        "\n",
        "nota1 = float(input('Digite o valor da primeira nota: '))\n",
        "nota2 = float(input('Digite o valor da segunda nota: '))\n",
        "nota3 = float(input('Digite o valor da terceira nota: '))\n",
        "nota4 = float(input('Digite o valor da quarta nota: '))\n",
        "\n",
        "media = (nota1 + nota2 + nota3 + nota4)/4\n",
        "print('Suas notas foram ({0},{1},{2},{3}) e a media é {4}'.format(nota1,nota2,nota3,nota4,media))\n"
      ],
      "execution_count": null,
      "outputs": [
        {
          "output_type": "stream",
          "text": [
            "Digite o valor da primeira nota: 9\n",
            "Digite o valor da segunda nota: 8\n",
            "Digite o valor da terceira nota: 7\n",
            "Digite o valor da quarta nota: 6\n",
            "Suas notas foram (9.0,8.0,7.0,6.0) e a media é 7.5\n"
          ],
          "name": "stdout"
        }
      ]
    },
    {
      "cell_type": "code",
      "metadata": {
        "colab": {
          "base_uri": "https://localhost:8080/"
        },
        "id": "4CyAtyvApGMY",
        "outputId": "989940aa-8e82-4f66-e3a7-9d2a55873d2b"
      },
      "source": [
        "#30. Leia um valor em real e a cotação do dólar. Em seguida, emprima o valor correspondente\n",
        "# em dólares.\n",
        "\n",
        "real = float(input('Digite em rela para converter em dólar: '))\n",
        "valor = float(input('Digite o valor do dólar atual: '))\n",
        "dolar = (1/valor)*real\n",
        "print('{0} real = {2:.2f} dólar valor do dólar({1})'.format(real,valor,dolar))"
      ],
      "execution_count": null,
      "outputs": [
        {
          "output_type": "stream",
          "text": [
            "Digite em rela para converter em dólar: 90.0\n",
            "Digite o valor do dólar atual: 6.17\n",
            "90.0 real = 14.59 dólar valor do dólar(6.17)\n"
          ],
          "name": "stdout"
        }
      ]
    },
    {
      "cell_type": "code",
      "metadata": {
        "colab": {
          "base_uri": "https://localhost:8080/"
        },
        "id": "4ozYj3nOrHJp",
        "outputId": "dd65fcbb-61b2-4a78-d670-930c764b6373"
      },
      "source": [
        "#31. Leia um número inteiro e imprima o seu antecessor e o seu sucessor.\n",
        "n = int(input('Digite um número inteiro para saber seu antecessor: '))\n",
        "print('O antecessor de {0} é {1}'.format(n,n-1))"
      ],
      "execution_count": null,
      "outputs": [
        {
          "output_type": "stream",
          "text": [
            "Digite um número inteiro para saber seu antecessor: 7\n",
            "O antecessor de 7 é 6\n"
          ],
          "name": "stdout"
        }
      ]
    },
    {
      "cell_type": "code",
      "metadata": {
        "colab": {
          "base_uri": "https://localhost:8080/"
        },
        "id": "-v1SGbLVrZDG",
        "outputId": "7cef43a4-1243-47ae-87dc-3d82ce796157"
      },
      "source": [
        "#32. Leia um número inteiro e imprima a soma do sucessor de seu triplo com o antecessor de\n",
        "# seu dobro.\n",
        "\n",
        "n = int(input('Digite um numero inteiro para saber a soma do sucessor e o triplo do antecessor: '))\n",
        "print('O valor digitado é {0} a soma do seu sucessor é {1} e o triplo do antecessor é {2}'.format(n,n+n+1,(n-1)*3))"
      ],
      "execution_count": null,
      "outputs": [
        {
          "output_type": "stream",
          "text": [
            "Digite um numero inteiro para saber a soma do sucessor e o triplo do antecessor: 9\n",
            "O valor digitado é 9 a soma do seu sucessor é 19 e o triplo do antecessor é 24\n"
          ],
          "name": "stdout"
        }
      ]
    },
    {
      "cell_type": "code",
      "metadata": {
        "colab": {
          "base_uri": "https://localhost:8080/"
        },
        "id": "h_fK5MwtMGht",
        "outputId": "3668799e-eeac-4cad-de83-85dfd813b7fa"
      },
      "source": [
        "#33.  Leia o tamanho do lado de um quadrado e imprima como resultado a sua área.\n",
        "\n",
        "\n",
        "L = int(input('Digite um dos lados do quadrado para saber sua área: '))\n",
        "A = L*L\n",
        "print('A área do quadrado é de {}'.format(A))"
      ],
      "execution_count": null,
      "outputs": [
        {
          "output_type": "stream",
          "text": [
            "Digite um dos lados do quadrado para saber sua área: 9\n",
            "A área do quadrado é de 81\n"
          ],
          "name": "stdout"
        }
      ]
    },
    {
      "cell_type": "code",
      "metadata": {
        "id": "8Ndf3jGSMagQ"
      },
      "source": [
        "#34. Leia o valor do raio de um círculo e calcule e imprima a área do circulo correspondente.\n",
        "\n",
        "\n",
        "R = int(input('Digite o valor do raio do círculo para saber sua área: '))\n",
        "A = 3.14 * R**2\n",
        "print('A área de um círculo com {0} de raio é {1} '.format(R,A))"
      ],
      "execution_count": null,
      "outputs": []
    },
    {
      "cell_type": "code",
      "metadata": {
        "id": "i5C3Ku_fNPgy"
      },
      "source": [
        "#35. Sejam a e b os catetos de um triângulo, onde a hipotenusa é obtida pela equação:\n",
        "# hipotenusa = ²(a²,b²). Faça um programa que receba os valores de a e b e c calcule\n",
        "# o valor da hipotenusa através da equação. Imprima o resuldado dessa operação.\n",
        "\n",
        "\n",
        "a = float(input('Digite o valor de cateto oposto [a]: '))\n",
        "b = float(input('Digite o valor de cateto adijacente [b]: '))\n",
        "c = (a**2+ b**2)**(1/2)\n",
        "print('O valor da hipotenusa é {0:.2}'.format(c))"
      ],
      "execution_count": null,
      "outputs": []
    },
    {
      "cell_type": "code",
      "metadata": {
        "id": "PtqTycnaNpn3"
      },
      "source": [
        "#36. Leia a altura e o raio de um cilindro circular e imprima o volume do cilindro. O volume\n",
        "# de um cilindro círcular é calculado por meio da seguinte fórmula: V = π * raio²* altura,\n",
        "#  onde π = 3.141592\n",
        "\n",
        "A = float(input('Digite a altura do cilindro circular: '))\n",
        "R = float(input('Digite o raio do cilindro circular: '))\n",
        "V = 3.14*R**2*A\n",
        "print('O volume do cilindro circular é de {0:.2f}'.format(V))"
      ],
      "execution_count": null,
      "outputs": []
    },
    {
      "cell_type": "code",
      "metadata": {
        "colab": {
          "base_uri": "https://localhost:8080/"
        },
        "id": "lRRCN7bEOAUt",
        "outputId": "3b4a955f-0686-429d-bb74-947f76faea9d"
      },
      "source": [
        "#37. Faça um programa que leia o valor de um produto e imprima o valor com desconto,tendo\n",
        "# em vista que o desconto foi de 12%.\n",
        "\n",
        "valor = float(input('Digite o valor do produto para saber o desconto: '))\n",
        "desconto_12 = 0.12*valor\n",
        "valor_com_desconto = valor - desconto_12 \n",
        "print('O produto de R${0} com desconto de 12%(R${2}) tem o valor total de  R${1}'.format(valor,valor_com_desconto,desconto_12)) "
      ],
      "execution_count": null,
      "outputs": [
        {
          "output_type": "stream",
          "text": [
            "Digite o valor do produto para saber o desconto: 78\n",
            "O produto de R$78.0 com desconto de 12%(R$9.36) tem o valor total de  R$68.64\n"
          ],
          "name": "stdout"
        }
      ]
    },
    {
      "cell_type": "code",
      "metadata": {
        "colab": {
          "base_uri": "https://localhost:8080/"
        },
        "id": "INuA_TqbgcrF",
        "outputId": "9bc2a3cc-f7c4-4beb-8715-7d5ade9a5031"
      },
      "source": [
        "#38. Leia o salário de um funcionário. Calcule e imprima o valor do novo salário, sabendo que \n",
        "# ele recebeu um aumento de 25%.\n",
        "\n",
        "\n",
        "salario = float(input('Digite o valor do salario: '))\n",
        "aumento = 0.25*salario\n",
        "salario_25 = salario + aumento\n",
        "print('O Salário é de R${1} com um aumento de 25% teve um aumento de R${0} totalizando R${2}.'.format(aumento,salario,salario_25))"
      ],
      "execution_count": null,
      "outputs": [
        {
          "output_type": "stream",
          "text": [
            "Digite o valor do salario: 3000\n",
            "O Salário é de R$3000.0 com um aumento de 25% teve um aumento de R$750.0 totalizando R$3750.0.\n"
          ],
          "name": "stdout"
        }
      ]
    },
    {
      "cell_type": "code",
      "metadata": {
        "colab": {
          "base_uri": "https://localhost:8080/"
        },
        "id": "57pmdYRVh_q0",
        "outputId": "2d549fd2-d928-44bc-f207-674244a191c9"
      },
      "source": [
        "#39. A importância de R$ 780.000.00 será dividida entre três ganhadores de um concurso.\n",
        "# Sendo que da quantia total:\n",
        "#   * O primeiro ganhador receberá 46%;\n",
        "#   * O segundo receberá 32%;\n",
        "#   * O terceiro receberá o restante;\n",
        "# \n",
        "#   Calcule e imprima a quantia ganhada por cada um dos ganhadores.\n",
        "\n",
        "\n",
        "\n",
        "valor_total = 78000000 \n",
        "ganhador_1 =  (0.46*valor_total) \n",
        "ganhador_2 =  (0.32*valor_total)\n",
        "ganhador_3 = valor_total - (ganhador_1+ganhador_2)\n",
        "\n",
        "print(''''\n",
        "    R$780.000.00 será dividida entre três ganhadores de um concurso.\n",
        "    * O primeiro ganhador receberá {0}.\n",
        "    * O segundo  receberá {1}.\n",
        "    * O terceiro receberá {2:.2f}\n",
        "'''.format(ganhador_1,ganhador_2,ganhador_3))"
      ],
      "execution_count": null,
      "outputs": [
        {
          "output_type": "stream",
          "text": [
            "'\n",
            "    R$780.000.00 será dividida entre três ganhadores de um concurso.\n",
            "    * O primeiro ganhador receberá 35880000.0.\n",
            "    * O segundo  receberá 24960000.0.\n",
            "    * O terceiro receberá 17160000.00\n",
            "\n"
          ],
          "name": "stdout"
        }
      ]
    },
    {
      "cell_type": "code",
      "metadata": {
        "colab": {
          "base_uri": "https://localhost:8080/"
        },
        "id": "9XyCVf6CiQ5m",
        "outputId": "ad5eaac3-5091-4f45-bae7-931cc807ba0d"
      },
      "source": [
        "#40. Uma empresa contrata um encanador a R$ 30,00 por dia. Faça um programa que solicite\n",
        "# o número de dias trabalhandos pelo encanador e imprima a quantia líquida que deverá\n",
        "# ser paga, sabendo-se que são descontados 8% para impostos de renda.\n",
        "\n",
        "\n",
        "dias = int(input('Digite os dias trabalhador: '))\n",
        "valor_bruto = 30 * dias\n",
        "impostos = 0.08 *valor_bruto\n",
        "pagamento = valor_bruto - impostos\n",
        "print('=-=-=-=-=-=-=-=-=-=-=-=-=-=-=-=-=-=')\n",
        "print()\n",
        "print('O pagamento total é de R$ {0:.2f}:'.format(pagamento))\n",
        "print('''\n",
        "=-=-=-=-=-=-=-=-=-=-=-=-=-=-=-=-=-=\n",
        "dias trabalhado =         {0}\n",
        "valor bruto =        R$ {1:.2f}\n",
        "imposto              R$ {2:.2f}\n",
        "pagamento =          R$ {3:.2f}\n",
        "=-=-=-=-=-=-=-=-=-=-=-=-=-=-=-=-=-\n",
        "'''.format(dias,valor_bruto,impostos,pagamento))"
      ],
      "execution_count": null,
      "outputs": [
        {
          "output_type": "stream",
          "text": [
            "Digite os dias trabalhador: 6\n",
            "=-=-=-=-=-=-=-=-=-=-=-=-=-=-=-=-=-=\n",
            "\n",
            "O pagamento total é de R$ 165.60:\n",
            "\n",
            "=-=-=-=-=-=-=-=-=-=-=-=-=-=-=-=-=-=\n",
            "dias trabalhado =         6\n",
            "valor bruto =        R$ 180.00\n",
            "imposto              R$ 14.40\n",
            "pagamento =          R$ 165.60\n",
            "=-=-=-=-=-=-=-=-=-=-=-=-=-=-=-=-=-\n",
            "\n"
          ],
          "name": "stdout"
        }
      ]
    },
    {
      "cell_type": "code",
      "metadata": {
        "colab": {
          "base_uri": "https://localhost:8080/"
        },
        "id": "RZDZBnFiimjJ",
        "outputId": "60c0e98b-a9b0-4df7-b2b6-161c548b1277"
      },
      "source": [
        "#41. Faça um programa que leia o valor da hora de trabalho (em reais) e número de horas\n",
        "# trabalhadas no mês. Imprima o valor a ser pago ao funcionário. adicionando 10% sobre\n",
        "# o valor calculado.\n",
        " \n",
        "\n",
        "hora_valor = int(input('Digite quanto vale a hora de trabalho em reais:  '))\n",
        "horas_trabalhada = int(input('Digite quantas horas foram trabalhada no mês: '))\n",
        "pagamento = hora_valor*horas_trabalhada\n",
        "pagamento_10 = (0.10*pagamento)+pagamento\n",
        "print('Pagamento = R${0:.2f}'.format(pagamento_10))"
      ],
      "execution_count": null,
      "outputs": [
        {
          "output_type": "stream",
          "text": [
            "Digite quanto vale a hora de trabalho em reais:  8\n",
            "Digite quantas horas foram trabalhada no mês: 9\n",
            "Pagamento = R$79.20\n"
          ],
          "name": "stdout"
        }
      ]
    },
    {
      "cell_type": "code",
      "metadata": {
        "colab": {
          "base_uri": "https://localhost:8080/"
        },
        "id": "eCvQDUupjKV5",
        "outputId": "1345c6c7-2e57-445c-cb65-993fb4abed5e"
      },
      "source": [
        "#42. Receba o salário-base de um funcionário. Calcule e imprima o salário a receber, sabendo-\n",
        "# se que esse funcionário tem uma gratificação de 5% sobre o salário-base. Além disso.\n",
        "# ele paga 7% de imposto sobre o salário-base.\n",
        "\n",
        "salario_base = int(input(\"Digite seu salário: \"))\n",
        "salario_acrescimo = (0.05 * salario_base) + salario_base\n",
        "imposto = salario_acrescimo - (0.07 * salario_acrescimo)\n",
        "print('Recebe total = R${0:.2f}'.format(imposto))"
      ],
      "execution_count": null,
      "outputs": [
        {
          "output_type": "stream",
          "text": [
            "Digite seu salário: 700\n",
            "Recebe total = R$683.55\n"
          ],
          "name": "stdout"
        }
      ]
    },
    {
      "cell_type": "code",
      "metadata": {
        "colab": {
          "base_uri": "https://localhost:8080/"
        },
        "id": "RDR4-KsJjusN",
        "outputId": "84f38385-c576-405c-cd16-4b1eef72cc1e"
      },
      "source": [
        "#43. Escreva um programa de ajuda para vendedores. A partir de um valor total lido, mostre:\n",
        "#    * O total a pagar com desconto de 10%;\n",
        "#    * O valor de cada parcela, no parcelamento de 3x sem juros;\n",
        "#    * A comissão do vendedor, no caso da venda ser a vista(5% sobre o valor com des-\n",
        "#      conto)\n",
        "#    * A comissão do vendedor,no caso ser parcelada (5% sobre o valor total)\n",
        "\n",
        "total = float(input(\"Digite o valor: \"))\n",
        "desconto_10 = total - (0.10 * total)\n",
        "parcelado = total / 3\n",
        "comissao_desconto = desconto_10 * 0.05\n",
        "comissao_parcela =total * 0.05\n",
        "print('''\n",
        "=-=-=-=-=-=-=-=-=-=-=-=-=-=-=-=-=-=-=-=-=-=-=-=-=-=-=-=-=-=-=-=-=-=-=-=\n",
        "O valor total do produto:                               R${0:.2f}\n",
        "Com desconto de 10% =                                   R${1:.2f}\n",
        "Parcelando 3x sem juros =                               R${2:.2f}\n",
        "Comissão a vista com desconto de 10% =                  R${3:.2f}\n",
        "Comissão parcelado 5% =                                 R${4:.2f} \n",
        "=-=-=-=-=-=-=-=-=-=-=-=-=-=-=-=-=-=-=-=-=-=-=-=-=-=-=-=-=-=-=-=-=-=-=-=\n",
        "'''.format(total,desconto_10,parcelado,comissao_desconto,comissao_parcela))"
      ],
      "execution_count": null,
      "outputs": [
        {
          "output_type": "stream",
          "text": [
            "Digite o valor: 950.00\n",
            "\n",
            "=-=-=-=-=-=-=-=-=-=-=-=-=-=-=-=-=-=-=-=-=-=-=-=-=-=-=-=-=-=-=-=-=-=-=-=\n",
            "O valor total do produto:                               R$950.00\n",
            "Com desconto de 10% =                                   R$855.00\n",
            "Parcelando 3x sem juros =                               R$316.67\n",
            "Comissão a vista com desconto de 10% =                  R$42.75\n",
            "Comissão parcelado 5% =                                 R$47.50 \n",
            "=-=-=-=-=-=-=-=-=-=-=-=-=-=-=-=-=-=-=-=-=-=-=-=-=-=-=-=-=-=-=-=-=-=-=-=\n",
            "\n"
          ],
          "name": "stdout"
        }
      ]
    },
    {
      "cell_type": "code",
      "metadata": {
        "colab": {
          "base_uri": "https://localhost:8080/"
        },
        "id": "WS2k_U-xkXrL",
        "outputId": "1fc7a24c-a3ab-4a91-c9f8-8762dfb5b81d"
      },
      "source": [
        "#44. Receba a altura do degrau de uma escada e a altura que o usuário deseja alcançar\n",
        "# subindo a escada. Calcule e mostre quantos degraus o usuário deverá subir para \n",
        "# atingir seu objetivo.\n",
        "\n",
        "degrau = float(input(\"Digite a altura de um degrau: \"))\n",
        "objetivo = float(input(\"Digite a altura que deseja alcançar: \"))\n",
        "meta = (objetivo / degrau)\n",
        "print(\"Para atingir o objetivo terá que subir {0} degraus\".format(meta))"
      ],
      "execution_count": null,
      "outputs": [
        {
          "output_type": "stream",
          "text": [
            "Digite a altura de um degrau: 8\n",
            "Digite a altura que deseja alcançar: 9\n",
            "Para atingir o objetivo terá que subir 1.125 degraus\n"
          ],
          "name": "stdout"
        }
      ]
    },
    {
      "cell_type": "code",
      "metadata": {
        "colab": {
          "base_uri": "https://localhost:8080/"
        },
        "id": "uAV9YGD9lUhn",
        "outputId": "eb20f667-f7bc-40a4-c358-30a5d2e80d07"
      },
      "source": [
        "#45. Faça um programa para converter uma letra maiúscula em letra minúscula. Use a tavela \n",
        "# ASCII para resolver o problema.\n",
        "\n",
        "letra_minuscula = str(input('Digite em letras minúsculas para converte em letras maiúscula: '))\n",
        "print(letra_minuscula.swapcase())"
      ],
      "execution_count": null,
      "outputs": [
        {
          "output_type": "stream",
          "text": [
            "Digite em letras minúsculas para converte em letras maiúscula: uva\n",
            "UVA\n"
          ],
          "name": "stdout"
        }
      ]
    },
    {
      "cell_type": "code",
      "metadata": {
        "colab": {
          "base_uri": "https://localhost:8080/"
        },
        "id": "PvsH868gIU9B",
        "outputId": "92f0082b-7672-4995-cc73-82f57b6ac9cd"
      },
      "source": [
        "\"\"\"\r\n",
        "46 - Faça um programa que leia um número inteiro positivo de três dígitos\r\n",
        "(de 100 a 999). Gere outro numero formado pelos dígitos invertidos do\r\n",
        "número lido. Exemplo:\r\n",
        "NumeroLido = 123\r\n",
        "NumeroGerado = 321\r\n",
        "\"\"\"\r\n",
        "\r\n",
        "numero = int(input(\"Digite um número de 100 a 999: \"))\r\n",
        "\r\n",
        "invertido = str(numero)[::-1]\r\n",
        "\r\n",
        "print(f\"Esse é o número que você digitou: {numero} e este é o número invertido: {invertido}\")"
      ],
      "execution_count": 1,
      "outputs": [
        {
          "output_type": "stream",
          "text": [
            "Digite um número de 100 a 999: 122\n",
            "Esse é o número que você digitou: 122 e este é o número invertido: 221\n"
          ],
          "name": "stdout"
        }
      ]
    },
    {
      "cell_type": "code",
      "metadata": {
        "colab": {
          "base_uri": "https://localhost:8080/"
        },
        "id": "k1YfVSFlLzJ7",
        "outputId": "136a474c-9cba-43b7-e25b-b4d7c7cf169c"
      },
      "source": [
        "\"\"\"\r\n",
        "47 - Leia um número inteiro de 4 dígitos (de 1.000 a 9.999) e imprima 1 dígito\r\n",
        "por linha.\r\n",
        "\"\"\"\r\n",
        "inteiro = int(input(\"Digite um número inteiro de 1.000 a 9.999: \"))\r\n",
        "\r\n",
        "digito0 = str(inteiro)[0]\r\n",
        "digito1 = str(inteiro)[1]\r\n",
        "digito2 = str(inteiro)[2]\r\n",
        "digito3 = str(inteiro)[3]\r\n",
        "print(f\"Este é o número que você digitou: {inteiro}\")\r\n",
        "print(\"E aqui é ele separado:\")\r\n",
        "print(digito0)\r\n",
        "print(digito1)\r\n",
        "print(digito2)\r\n",
        "print(digito3)\r\n",
        "\r\n",
        "# ou pode fazer assim:\r\n",
        "\r\n",
        "digito = (inteiro // 1000 % 10), (inteiro // 100 % 10), (inteiro // 10 % 10), (inteiro // 1 % 10)  # milhar, centena, dezena e unidade, respectivamente.\r\n",
        "print(\"\\n Aqui o numero vai ser separado em uma mesma linha, começando do milhar e terminado com a unidade:\")\r\n",
        "print(digito)\r\n",
        "\r\n",
        "# Recebendo o número\r\n",
        "numero = input('Informe um número com 4 dígitos: ')\r\n",
        " \r\n",
        "# Poderíamos checar se tem realmente 4 dígitos... len(numero)\r\n",
        " \r\n",
        "# Imprimindo 1 número por linha\r\n",
        "for n in numero:\r\n",
        "    print(n)"
      ],
      "execution_count": 2,
      "outputs": [
        {
          "output_type": "stream",
          "text": [
            "Digite um número inteiro de 1.000 a 9.999: 5000\n",
            "Este é o número que você digitou: 5000\n",
            "E aqui é ele separado:\n",
            "5\n",
            "0\n",
            "0\n",
            "0\n",
            "\n",
            " Aqui o numero vai ser separado em uma mesma linha, começando do milhar e terminado com a unidade:\n",
            "(5, 0, 0, 0)\n",
            "Informe um número com 4 dígitos: 5000\n",
            "5\n",
            "0\n",
            "0\n",
            "0\n"
          ],
          "name": "stdout"
        }
      ]
    },
    {
      "cell_type": "code",
      "metadata": {
        "colab": {
          "base_uri": "https://localhost:8080/"
        },
        "id": "n4Ukv6CGMEbz",
        "outputId": "69e5f4bf-d50e-4277-d2d0-f990e80e36b4"
      },
      "source": [
        "\"\"\"\r\n",
        "48 - Leia um valor inteiro em segundos, e imprima-o\r\n",
        "em horas, minutos e segundos.\r\n",
        "\"\"\"\r\n",
        "segundos = float(input(\"Digite um valor de segundos: \"))\r\n",
        "horas = segundos / 1200\r\n",
        "minutos = segundos / 60\r\n",
        "segundos = segundos / 1\r\n",
        "\r\n",
        "print(f\"{segundos} segundos tem: {horas:.2f} horas\")\r\n",
        "print(f\"{segundos} segundos tem: {minutos:.2f} minutos\")\r\n",
        "print(f\"{segundos} segundos tem: {segundos:.2f} segundos\")"
      ],
      "execution_count": 3,
      "outputs": [
        {
          "output_type": "stream",
          "text": [
            "Digite um valor de segundos: 98887865568678638712\n",
            "9.888786556867864e+19 segundos tem: 82406554640565536.00 horas\n",
            "9.888786556867864e+19 segundos tem: 1648131092811310592.00 minutos\n",
            "9.888786556867864e+19 segundos tem: 98887865568678641664.00 segundos\n"
          ],
          "name": "stdout"
        }
      ]
    },
    {
      "cell_type": "code",
      "metadata": {
        "colab": {
          "base_uri": "https://localhost:8080/"
        },
        "id": "9EANDc3_QnXl",
        "outputId": "3af4463b-d235-4754-deba-8742e20df88f"
      },
      "source": [
        "\"\"\"\r\n",
        "Time-Delta Dias\r\n",
        "\"\"\"\r\n",
        "import datetime\r\n",
        "tday = datetime.date.today()\r\n",
        "tdelta = datetime.timedelta(days = 7)\r\n",
        "print(tday + tdelta)\r\n",
        "print(tday - tdelta)\r\n",
        "bday = datetime.date(2020, 3, 13)\r\n",
        "till_bday = bday - tday\r\n",
        "print(till_bday)\r\n",
        "#>>>198 days, 0:00:00\r\n",
        "#para sair só os dias \r\n",
        "print(till_bday.days)\r\n",
        "print(till_bday.total_seconds())"
      ],
      "execution_count": 4,
      "outputs": [
        {
          "output_type": "stream",
          "text": [
            "2021-03-20\n",
            "2021-03-06\n",
            "-365 days, 0:00:00\n",
            "-365\n",
            "-31536000.0\n"
          ],
          "name": "stdout"
        }
      ]
    },
    {
      "cell_type": "code",
      "metadata": {
        "colab": {
          "base_uri": "https://localhost:8080/"
        },
        "id": "M4p6-E9KQwEK",
        "outputId": "c5a77e1c-8219-4a1b-a91d-c486da63cf33"
      },
      "source": [
        "\"\"\"\r\n",
        "50 - Implemente um programa que calcule o ano de um nascimento de uma pessoa\r\n",
        "a partir de sua idade e do ano atual.\r\n",
        "\"\"\"\r\n",
        "idade = int(input(\"Digite sua idade: \"))\r\n",
        "data_atual = int(input(\"Digite sua data atual: \"))\r\n",
        "\r\n",
        "ano_nascimento = abs(idade - data_atual)\r\n",
        "print(f'Você nasceu em {ano_nascimento}')"
      ],
      "execution_count": 6,
      "outputs": [
        {
          "output_type": "stream",
          "text": [
            "Digite sua idade: 20\n",
            "Digite sua data atual: 2021\n",
            "Você nasceu em 2001\n"
          ],
          "name": "stdout"
        }
      ]
    },
    {
      "cell_type": "code",
      "metadata": {
        "colab": {
          "base_uri": "https://localhost:8080/"
        },
        "id": "u_UioIkdRS-S",
        "outputId": "e0ae04e9-f13e-437b-e96d-148c36d5830a"
      },
      "source": [
        "'''\r\n",
        "51 - Escreva um programa que leia as coordenadas x e y de pontos do R²\r\n",
        "e calcule sua distância da origem(0,0).\r\n",
        "'''\r\n",
        "\r\n",
        "from math import sqrt\r\n",
        "\r\n",
        "co_xa = float(input(\"Digite a coordenada de x no ponto a: \"))\r\n",
        "co_xb = float(input(\"Digite a coordenada de x no ponto b: \"))\r\n",
        "\r\n",
        "\r\n",
        "co_yb = float(input(\"Digite a coordenada de y no ponto a: \"))\r\n",
        "co_yb = float(input(\"Digite a coordenada de y no ponto b: \"))\r\n",
        "\r\n",
        "\r\n",
        "distancia = sqrt((co_xa - co_xb)**2) + ((co_yb - co_yb)**2)\r\n",
        "\r\n",
        "\r\n",
        "print(f\"A distância entre os dois pontos é de: {distancia}\")"
      ],
      "execution_count": 7,
      "outputs": [
        {
          "output_type": "stream",
          "text": [
            "Digite a coordenada de x no ponto a: 6\n",
            "Digite a coordenada de x no ponto b: 7\n",
            "Digite a coordenada de y no ponto a: 5\n",
            "Digite a coordenada de y no ponto b: 4\n",
            "A distância entre os dois pontos é de: 1.0\n"
          ],
          "name": "stdout"
        }
      ]
    },
    {
      "cell_type": "code",
      "metadata": {
        "colab": {
          "base_uri": "https://localhost:8080/"
        },
        "id": "4bUutn6aYlZ-",
        "outputId": "4116c81b-cf6c-4b17-9131-cf3d3f1065fe"
      },
      "source": [
        "\"\"\"\r\n",
        "52 - Três amigos jogaram na loteria. Caso eles ganhem, o prêmio deve ser\r\n",
        "repartido proporcionalmente ao valor que cada um deu para a realização da aposta\r\n",
        "Faça um programa que leia quanto cada apostador investiu, o valor do prêmio\r\n",
        "e imprima quanto cada um ganharia do prêmio com base no valor investido.\r\n",
        "\"\"\"\r\n",
        "\r\n",
        "valor_aposta = float(input(\"Digite o valor da aposta: \"))\r\n",
        "\r\n",
        "apost1 = int(input(\"Digite a porcentagem que você investiu: \"))\r\n",
        "apost2 = int(input(\"Digite a porcentagem que você investiu: \"))\r\n",
        "apost3 = int(input(\"Digite a porcentagem que você investiu: \"))\r\n",
        "\r\n",
        "\r\n",
        "premio1 = (valor_aposta * apost1) // 100\r\n",
        "premio2 = (valor_aposta * apost2) // 100\r\n",
        "premio3 = (valor_aposta * apost3) // 100\r\n",
        "\r\n",
        "print(f\"O primeiro apostador vai ganhar: {premio1}, o segundo vai ganhar: {premio2} e o terceiro ganhará: {premio3}.\")"
      ],
      "execution_count": 8,
      "outputs": [
        {
          "output_type": "stream",
          "text": [
            "Digite o valor da aposta: 1000\n",
            "Digite a porcentagem que você investiu: 250\n",
            "Digite a porcentagem que você investiu: 200\n",
            "Digite a porcentagem que você investiu: 100\n",
            "O primeiro apostador vai ganhar: 2500.0, o segundo vai ganhar: 2000.0 e o terceiro ganhará: 1000.0.\n"
          ],
          "name": "stdout"
        }
      ]
    },
    {
      "cell_type": "code",
      "metadata": {
        "colab": {
          "base_uri": "https://localhost:8080/"
        },
        "id": "qNT3_qaIY3Zn",
        "outputId": "6758c5ab-81af-4898-9f87-7da33f66b726"
      },
      "source": [
        "\"\"\"\r\n",
        "53 - Faça um programa para ler as dimensões de um terreno\r\n",
        "(comprimento c e largura l), bem como o preco do metro de rela p. Imprima\r\n",
        "o custo para cercar este mesmo terreno com tela.\r\n",
        "\"\"\"\r\n",
        "\r\n",
        "c = float(input(\"Digite o comprimento do terreno: \"))\r\n",
        "l = float(input(\"Digite a largura do terreno: \"))\r\n",
        "preco_tela = float(input(\"Qual o valor do metro da tela? \"))\r\n",
        "\r\n",
        "\r\n",
        "custo_total = c * l * preco_tela\r\n",
        "\r\n",
        "print(f\"O tamanho da área {c} x {l} você irá pagar: {custo_total}\")"
      ],
      "execution_count": 9,
      "outputs": [
        {
          "output_type": "stream",
          "text": [
            "Digite o comprimento do terreno: 89\n",
            "Digite a largura do terreno: 69\n",
            "Qual o valor do metro da tela? 56\n",
            "O tamanho da área 89.0 x 69.0 você irá pagar: 343896.0\n"
          ],
          "name": "stdout"
        }
      ]
    }
  ]
}